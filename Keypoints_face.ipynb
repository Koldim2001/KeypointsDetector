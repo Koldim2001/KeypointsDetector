{
 "cells": [
  {
   "cell_type": "markdown",
   "metadata": {},
   "source": [
    "# Основные точки лица"
   ]
  },
  {
   "cell_type": "markdown",
   "metadata": {},
   "source": [
    "[карта точек](images/mesh_map.jpg)"
   ]
  },
  {
   "cell_type": "code",
   "execution_count": 1,
   "metadata": {},
   "outputs": [],
   "source": [
    "#pip install opencv-python mediapipe msvc-runtime\n",
    "import mediapipe as mp\n",
    "import time\n",
    "import cv2\n",
    "import numpy as np\n",
    "import matplotlib.pyplot as plt"
   ]
  },
  {
   "cell_type": "markdown",
   "metadata": {},
   "source": [
    "Тут реализовано нахождение всего мэша лица + центра глаза (а вот контроль за зрачком будет далее):"
   ]
  },
  {
   "cell_type": "code",
   "execution_count": 2,
   "metadata": {},
   "outputs": [],
   "source": [
    "mp_drawing=mp.solutions.drawing_utils\n",
    "mp_face_mesh=mp.solutions.face_mesh\n",
    "\n",
    "\n",
    "drawing_spec_points = mp_drawing.DrawingSpec(   # точки \n",
    "          color=(0,0,255),\n",
    "          thickness=1,\n",
    "          circle_radius=2\n",
    "        )\n",
    "\n",
    "drawing_spec_lines = mp_drawing.DrawingSpec(  # линии соединения\n",
    "          color=(255,0,0),\n",
    "          thickness=1,\n",
    "          circle_radius=1\n",
    "        )\n",
    "\n",
    "cap=cv2.VideoCapture(0)\n",
    "cap.set(cv2.CAP_PROP_FRAME_WIDTH, 1280)\n",
    "cap.set(cv2.CAP_PROP_FRAME_HEIGHT, 720)\n",
    "\n",
    "with mp_face_mesh.FaceMesh(min_detection_confidence=0.5,\n",
    "                           min_tracking_confidence=0.5,\n",
    "                           max_num_faces=1,\n",
    "                           refine_landmarks=False) as face_mesh:\n",
    "    while True:\n",
    "        ret,image=cap.read()\n",
    "        image=cv2.cvtColor(image, cv2.COLOR_BGR2RGB)\n",
    "\n",
    "        image.flags.writeable=False\n",
    "        results=face_mesh.process(image)\n",
    "        image.flags.writeable=True\n",
    "        image=cv2.cvtColor(image, cv2.COLOR_RGB2BGR)\n",
    "\n",
    "        if results.multi_face_landmarks:\n",
    "            for face_landmarks in results.multi_face_landmarks:\n",
    "                \n",
    "                # Пример контроля левого глаза\n",
    "                landmark_down = face_landmarks.landmark[374]\n",
    "                landmark_up = face_landmarks.landmark[386]\n",
    "\n",
    "                x, y = int((landmark_up.x+ landmark_down.x)/2  * image.shape[1]), int((landmark_up.y+ landmark_down.y)/2 * image.shape[0])\n",
    "\n",
    "                # Display the first landmark point in red\n",
    "                cv2.circle(image, (x, y), 5, (255, 255, 0), -1)\n",
    "\n",
    "                # Пример контроля правого глаза\n",
    "                landmark_down = face_landmarks.landmark[159]\n",
    "                landmark_up = face_landmarks.landmark[145]\n",
    "\n",
    "                x, y = int((landmark_up.x+ landmark_down.x)/2  * image.shape[1]), int((landmark_up.y+ landmark_down.y)/2 * image.shape[0])\n",
    "\n",
    "                # Display the first landmark point in red\n",
    "                cv2.circle(image, (x, y), 5, (0, 255, 255), -1)\n",
    "\n",
    "                mp_drawing.draw_landmarks(image=image,\n",
    "                        landmark_list=face_landmarks,\n",
    "                        connections=mp_face_mesh.FACEMESH_TESSELATION,\n",
    "                        landmark_drawing_spec=drawing_spec_points,\n",
    "                        connection_drawing_spec=drawing_spec_lines)\n",
    "\n",
    "        cv2.imshow(\"Face Mesh\", image)\n",
    "        k=cv2.waitKey(1)\n",
    "        if k==ord('q'):\n",
    "            break\n",
    "cap.release()\n",
    "cv2.destroyAllWindows()\n"
   ]
  },
  {
   "cell_type": "markdown",
   "metadata": {},
   "source": [
    "---"
   ]
  },
  {
   "cell_type": "markdown",
   "metadata": {},
   "source": [
    "## Контроль за зрачком:"
   ]
  },
  {
   "cell_type": "code",
   "execution_count": 2,
   "metadata": {},
   "outputs": [],
   "source": [
    "# refine_landmarks = True -> включает детекцию зрачков\n",
    "\n",
    "# координаты точек мэша\n",
    "RIGHT_EYE=[ 33, 7, 163, 144, 145, 153, 154, 155, 133, 173, 157, 158, 159, 160, 161 , 246 ]\n",
    "LEFT_EYE = [263, 249, 390, 373, 374, 380, 381, 382, 362, 398, 384, 385, 386, 387, 388, 466]\n",
    "\n",
    "LEFT_IRIS = [474,475, 476, 477]\n",
    "RIGHT_IRIS = [469, 470, 471, 472]"
   ]
  },
  {
   "cell_type": "code",
   "execution_count": 3,
   "metadata": {},
   "outputs": [],
   "source": [
    "mp_drawing=mp.solutions.drawing_utils\n",
    "mp_face_mesh=mp.solutions.face_mesh\n",
    "\n",
    "\n",
    "drawing_spec_points = mp_drawing.DrawingSpec(   # точки \n",
    "          color=(0,0,255),\n",
    "          thickness=1,\n",
    "          circle_radius=2\n",
    "        )\n",
    "\n",
    "drawing_spec_lines = mp_drawing.DrawingSpec(  # линии соединения\n",
    "          color=(255,0,0),\n",
    "          thickness=1,\n",
    "          circle_radius=1\n",
    "        )\n",
    "\n",
    "cap=cv2.VideoCapture(0)\n",
    "cap.set(cv2.CAP_PROP_FRAME_WIDTH, 1280)\n",
    "cap.set(cv2.CAP_PROP_FRAME_HEIGHT, 720)\n",
    "\n",
    "with mp_face_mesh.FaceMesh(min_detection_confidence=0.5,\n",
    "                           min_tracking_confidence=0.5,\n",
    "                           max_num_faces=1,\n",
    "                           refine_landmarks=True) as face_mesh:\n",
    "    while True:\n",
    "        ret,image=cap.read()\n",
    "        image=cv2.cvtColor(image, cv2.COLOR_BGR2RGB)\n",
    "\n",
    "        image.flags.writeable=False\n",
    "        results=face_mesh.process(image)\n",
    "        image.flags.writeable=True\n",
    "        image=cv2.cvtColor(image, cv2.COLOR_RGB2BGR)\n",
    "\n",
    "        if results.multi_face_landmarks:\n",
    "            for face_landmarks in results.multi_face_landmarks:\n",
    "                mesh_points = np.array([[int(p.x * image.shape[1]), int(p.y * image.shape[0])] for p in face_landmarks.landmark], dtype=int)\n",
    "\n",
    "                # обводка глаз\n",
    "                cv2.polylines(image, [mesh_points[RIGHT_EYE]], True, (0,255,0), 1, cv2.LINE_AA)\n",
    "                cv2.polylines(image, [mesh_points[LEFT_EYE]], True, (0,255,200), 1, cv2.LINE_AA)\n",
    "\n",
    "                # обводка зрачков (всего 4 точки так что получился ромб)\n",
    "                #cv2.polylines(image, [mesh_points[LEFT_IRIS]], True, (0,255,0), 1, cv2.LINE_AA)\n",
    "                #cv2.polylines(image, [mesh_points[RIGHT_IRIS]], True, (0,255,200), 1, cv2.LINE_AA)\n",
    "\n",
    "                # For the right iris\n",
    "                (r_cx, r_cy), r_radius = cv2.minEnclosingCircle(mesh_points[RIGHT_IRIS])\n",
    "                center_right = (int(r_cx), int(r_cy))\n",
    "                radius_right = int(r_radius)\n",
    "                cv2.circle(image, center_right, radius_right, (0, 100, 255), 1)  # контур зрачка\n",
    "                cv2.circle(image, center_right, 1, (0, 100, 255), 2)  # центр\n",
    "\n",
    "                # For the left iris\n",
    "                (l_cx, l_cy), l_radius = cv2.minEnclosingCircle(mesh_points[LEFT_IRIS])\n",
    "                center_left = (int(l_cx), int(l_cy))\n",
    "                radius_left = int(l_radius)\n",
    "                cv2.circle(image, center_left, radius_left, (0, 100, 255), 1)  # контур зрачка\n",
    "                cv2.circle(image, center_left, 1, (0, 100, 255), 2)  # центр\n",
    "                \n",
    "\n",
    "        cv2.imshow(\"Face Mesh\", image)\n",
    "        k=cv2.waitKey(1)\n",
    "        if k==ord('q'):\n",
    "            break\n",
    "cap.release()\n",
    "cv2.destroyAllWindows()\n"
   ]
  }
 ],
 "metadata": {
  "kernelspec": {
   "display_name": "for_test",
   "language": "python",
   "name": "python3"
  },
  "language_info": {
   "codemirror_mode": {
    "name": "ipython",
    "version": 3
   },
   "file_extension": ".py",
   "mimetype": "text/x-python",
   "name": "python",
   "nbconvert_exporter": "python",
   "pygments_lexer": "ipython3",
   "version": "3.10.13"
  }
 },
 "nbformat": 4,
 "nbformat_minor": 2
}
